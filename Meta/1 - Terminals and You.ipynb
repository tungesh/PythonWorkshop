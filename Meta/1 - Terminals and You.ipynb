{
 "cells": [
  {
   "cell_type": "markdown",
   "metadata": {},
   "source": [
    "### Terminals"
   ]
  },
  {
   "cell_type": "markdown",
   "metadata": {},
   "source": [
    "Terminals are text based methods of interacting with a computer. They can be used to interact with your local machine or a machine over the network. They are how we'll install and run Python. Let's dive in."
   ]
  },
  {
   "cell_type": "markdown",
   "metadata": {},
   "source": [
    "#### Terminal Commands\n",
    "There are many different terminal commands. The usual base format for a command is: \n",
    "```\n",
    "<command> -<flags/options>\n",
    "```\n",
    "Possibly the most useful command is ```man``` which can be used to open manuals for commands. For example:\n",
    "```\n",
    "man man\n",
    "```\n",
    "opens up the ```man``` manual. Throughout this section we'll explore various commands. "
   ]
  },
  {
   "cell_type": "markdown",
   "metadata": {},
   "source": [
    "#### Navigating Files and Understanding Permissions\n",
    "At some point you've probably navigated through your computers files and folders/directories using a file explorer. You can navigate through directories much the same way in a terminal. These are the commands you'll need for navigation:\n",
    "* ```pwd```: Prints the current working directory, which is the directory the terminal is currently \"in\".\n",
    "* ```ls```: Lists the contents (files and directories) of the current directory.\n",
    "* ```cd```: Used to change the current directory.\n",
    "Let's look at some examples of using these commands."
   ]
  },
  {
   "cell_type": "markdown",
   "metadata": {},
   "source": [
    "```\n",
    ">> pwd\n",
    "/var/mail\n",
    "```\n",
    "The current working directory is ```var```\n",
    "```\n",
    ">> ls\n",
    "local  log  mail  run\n",
    "```\n",
    "These are the current files and folders in the var directory.\n",
    "```\n",
    ">> ls -l\n",
    "drwxr-xr-x  9 root root  4096 Sep 12 17:57 log\n",
    "drwxrwsr-x  2 root mail  4096 Sep 14  2012 mail\n",
    "lrwxrwxrwx  1 root root     4 Sep 14  2012 run -> /run\n",
    "```\n",
    "Running ```ls``` with the ```-l``` option gives much more informaiton about the directory's contents.\n",
    "```\n",
    "drwxrwsr-x  2 root staff 4096 Apr 19  2012 local\n",
    "```\n",
    "The first character ```d``` in ```drwxrwsr-x``` indicates that ```local``` is a directory.\n",
    "\n"
   ]
  },
  {
   "cell_type": "markdown",
   "metadata": {},
   "source": [
    "#### Permissions\n",
    "The ```rwxrwsr-x``` can actually be though of as 3 chunks ```rwx rws r-x```\n",
    "\n",
    "* r: read (needed to read the file).\n",
    "* w: write (needed to write to the file). \n",
    "* x: execute (needed to run the file as as script)."
   ]
  },
  {
   "cell_type": "markdown",
   "metadata": {},
   "source": [
    "#### Path\n",
    "The ```echo``` command can be used to display text.\n",
    "```\n",
    ">> echo hello\n",
    "hello\n",
    "```\n",
    "It useful for viewing the values of variables in the terminal. One of these variables is the PATH. Variables can be echoed out by appending a  FIX THIS in front of them as follows.\n",
    "```\n",
    ">> echo PATH\n",
    "/usr/local/sbin:/usr/local/bin:/usr/sbin:/usr/bin\n",
    "```\n",
    "The PATH variable contains a list of directories in which the terminal will look for commands. In the output above, each of the directories is separated by a ```:```, which means that the directories on the path are:\n",
    "\n",
    "* ```/usr/local/sbin```\n",
    "* ```/usr/local/bin```\n",
    "* ```/usr/sbin```\n",
    "* ```/usr/bin```\n",
    "\n",
    "When a command is enter, the terminal will look in each of these directories in order to find the corresponding program to execute. The ```which``` command can be used to determine where a command is being pulled from. For example\n",
    "```\n",
    ">> which python\n",
    "/usr/bin/python\n",
    "```\n",
    "shows us that ```python``` is being pulled from the ```/usr/bin``` directory.\n",
    "\n",
    "TODO: How to add direcotires to PATH\n"
   ]
  },
  {
   "cell_type": "markdown",
   "metadata": {},
   "source": [
    "#### SSH"
   ]
  },
  {
   "cell_type": "markdown",
   "metadata": {},
   "source": [
    "#### SCP "
   ]
  }
 ],
 "metadata": {
  "kernelspec": {
   "display_name": "Python 2",
   "language": "python",
   "name": "python2"
  },
  "language_info": {
   "codemirror_mode": {
    "name": "ipython",
    "version": 2
   },
   "file_extension": ".py",
   "mimetype": "text/x-python",
   "name": "python",
   "nbconvert_exporter": "python",
   "pygments_lexer": "ipython2",
   "version": "2.7.10"
  }
 },
 "nbformat": 4,
 "nbformat_minor": 0
}
