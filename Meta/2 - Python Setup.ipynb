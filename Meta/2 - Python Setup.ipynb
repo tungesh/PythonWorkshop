{
 "cells": [
  {
   "cell_type": "markdown",
   "metadata": {},
   "source": [
    "# Python Setup\n",
    "There are lots of different ways of setting up Python on you computer and the numerical libraries you'll need. These have varying degrees of difficulty."
   ]
  },
  {
   "cell_type": "markdown",
   "metadata": {},
   "source": [
    "## Easy\n",
    "The easiest method of getting of getting Python and the libraries you will need is to use one of the pre-built distributions available at [Scientific Python](http://www.scipy.org/install.html#scientific-python-distributions). The **Anaconda Distribution** looks pretty solid.\n",
    "\n",
    "Using a pre-built distribution has the advantage of being easy to install. However its harder to add libraries that it doesn't include."
   ]
  },
  {
   "cell_type": "markdown",
   "metadata": {},
   "source": [
    "## Hard\n",
    "The hard method will have you installing a C compiler, **pip** (a Python package manager) and **virtualenv** (an environment management tool). It may be difficult if you're not familiar with navigating the command line. Follow the instructions at http://newcoder.io/begin/setup-your-machine/\n"
   ]
  }
 ],
 "metadata": {
  "kernelspec": {
   "display_name": "Python 2",
   "language": "python",
   "name": "python2"
  },
  "language_info": {
   "codemirror_mode": {
    "name": "ipython",
    "version": 2
   },
   "file_extension": ".py",
   "mimetype": "text/x-python",
   "name": "python",
   "nbconvert_exporter": "python",
   "pygments_lexer": "ipython2",
   "version": "2.7.10"
  }
 },
 "nbformat": 4,
 "nbformat_minor": 0
}
