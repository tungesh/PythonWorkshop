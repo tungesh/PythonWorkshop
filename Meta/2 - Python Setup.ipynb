{
 "cells": [
  {
   "cell_type": "markdown",
   "metadata": {},
   "source": [
    "## Easiest\n",
    "\n",
    "The easiest method of installing the numerical libraries you need is to follow the method under [Scientific Python](http://www.scipy.org/install.html#scientific-python-distributions). The following methods are slightly more involved."
   ]
  },
  {
   "cell_type": "markdown",
   "metadata": {},
   "source": [
    "### Ubuntu Install\n",
    "* ```sudo apt-get update```\n",
    "* ```sudo apt-get install python-numpy python-scipy python-matplotlib ipython ipython-notebook python-pandas python-sympy python-nose```"
   ]
  },
  {
   "cell_type": "markdown",
   "metadata": {},
   "source": [
    "### OS X Install\n",
    "\n",
    "* ```ruby -e \"$(curl -fsSL https://raw.githubusercontent.com/Homebrew/install/master/install)\"```\n",
    "* ```brew install gcc```\n",
    "* ```brew install python```\n",
    "* ```pip install numpy scipy ipython[notebook] matplotlib```"
   ]
  },
  {
   "cell_type": "markdown",
   "metadata": {},
   "source": [
    "### Windows Install\n",
    "Run an Ubuntu virtual machine using [Vagrant](https://www.vagrantup.com/) and follow the Ubuntu instructions."
   ]
  },
  {
   "cell_type": "markdown",
   "metadata": {},
   "source": [
    "## Best\n",
    "- Pip"
   ]
  }
 ],
 "metadata": {
  "kernelspec": {
   "display_name": "Python 2",
   "language": "python",
   "name": "python2"
  },
  "language_info": {
   "codemirror_mode": {
    "name": "ipython",
    "version": 2
   },
   "file_extension": ".py",
   "mimetype": "text/x-python",
   "name": "python",
   "nbconvert_exporter": "python",
   "pygments_lexer": "ipython2",
   "version": "2.7.10"
  }
 },
 "nbformat": 4,
 "nbformat_minor": 0
}
